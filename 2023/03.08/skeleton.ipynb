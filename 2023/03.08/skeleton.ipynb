{
 "cells": [
  {
   "cell_type": "code",
   "execution_count": null,
   "metadata": {},
   "outputs": [],
   "source": [
    "import numpy as np\n",
    "def solution(key, lock):\n",
    "    # 자물쇠와 열쇠의 한변의 크기\n",
    "    \n",
    "    # 정답 배열 선언\n",
    "    \n",
    "    # padding_size\n",
    "    \n",
    "    # numpy type의 key 및 lock 선언 lock의 경우 key로 순회가 가능하도록 padding\n",
    "    \n",
    "    #lock의 한변의 크기\n",
    "    \n",
    "    # Key 4번 회전\n",
    "    \n",
    "    \n",
    "        # lock의 모든 공간 (행과 열) 을 순회하며 key를 더한 경우에 대해 탐색\n",
    "\n",
    "\n",
    "\n",
    "                # 정답 체크 후 정답이면, True 리턴\n",
    "\n",
    "\n",
    "\n",
    "                # 정답이 아닌 경우, lock 초기화\n",
    "\n",
    "\n",
    "\n",
    "    # 완전탐색 후 정답이 없다면, False 리턴\n",
    "    return False"
   ]
  }
 ],
 "metadata": {
  "kernelspec": {
   "display_name": "Python 3",
   "language": "python",
   "name": "python3"
  },
  "language_info": {
   "name": "python",
   "version": "3.9.13"
  },
  "orig_nbformat": 4,
  "vscode": {
   "interpreter": {
    "hash": "b0fa6594d8f4cbf19f97940f81e996739fb7646882a419484c72d19e05852a7e"
   }
  }
 },
 "nbformat": 4,
 "nbformat_minor": 2
}
